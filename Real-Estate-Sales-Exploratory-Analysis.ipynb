{
 "cells": [
  {
   "cell_type": "code",
   "execution_count": 1,
   "metadata": {},
   "outputs": [
    {
     "name": "stdout",
     "output_type": "stream",
     "text": [
      "   ID  SerialNumber  ListYear            DateRecorded     Town  \\\n",
      "0   1         14046      2014  09/29/2015 12:00:00 AM  Andover   \n",
      "1   2        900035      2009  07/20/2010 12:00:00 AM  Andover   \n",
      "2   3         14011      2014  01/14/2015 12:00:00 AM  Andover   \n",
      "3   4         80009      2008  01/21/2009 12:00:00 AM  Andover   \n",
      "4   5         15006      2015  11/30/2015 12:00:00 AM  Andover   \n",
      "\n",
      "                       Address  AssessedValue  SaleAmount  SalesRatio  \\\n",
      "0   US ROUTE 6  M 33 B 36 L 22        10720.0     75000.0    0.142933   \n",
      "1              1 DOGWOOD DRIVE        55600.0     99000.0    0.561616   \n",
      "2              1 JUROVATY LANE       153100.0    190000.0    0.805789   \n",
      "3                  1 ROSE LANE       116600.0    138900.0    0.839453   \n",
      "4                  1 ROSE LANE       102900.0     50000.0    2.058000   \n",
      "\n",
      "  PropertyType ResidentialType        NonUseCode  \\\n",
      "0  Vacant Land             NaN               NaN   \n",
      "1  Vacant Land             NaN               NaN   \n",
      "2  Residential   Single Family               NaN   \n",
      "3  Residential   Single Family               NaN   \n",
      "4  Residential   Single Family  14 - Foreclosure   \n",
      "\n",
      "                          Remarks  \n",
      "0                             NaN  \n",
      "1                             NaN  \n",
      "2                             NaN  \n",
      "3                             NaN  \n",
      "4  PROPERTY WAS OWNED BY THE BANK  \n"
     ]
    }
   ],
   "source": [
    "# Analysis of Real Estate Sales from 2001 to 2016\n",
    "#\n",
    "# Notebook focus: Exploratory data analysis - looking at the distributions, trends and outliers. \n",
    "#\n",
    "# Author: Jane Nikolova\n",
    "# Occupation: Senior Consultant\n",
    "# All Rights Reserved. \n",
    "# Date: May, 2019\n",
    "#\n",
    "# Data Source - Real Estate Sales 2001-2016\n",
    "# https://catalog.data.gov/dataset/real-estate-sales-2001-2016\n",
    "\n",
    "# Libraries - SKLearn, Pandas, NumPy, Matplotlib \n",
    "\n",
    "import pandas\n",
    "import pandas as pd\n",
    "import numpy as np\n",
    "import matplotlib.pyplot as plt\n",
    "from matplotlib.pyplot import *\n",
    "import collections\n",
    "from sklearn import tree\n",
    "from sklearn import preprocessing\n",
    "from sklearn import model_selection\n",
    "from sklearn.pipeline import Pipeline\n",
    "from sklearn.impute import SimpleImputer\n",
    "from sklearn.metrics import accuracy_score\n",
    "from sklearn.preprocessing import LabelEncoder\n",
    "from sklearn.feature_extraction import DictVectorizer\n",
    "from sklearn.model_selection import train_test_split\n",
    "from sklearn.preprocessing import StandardScaler, OneHotEncoder\n",
    "from sklearn.preprocessing import Normalizer, OneHotEncoder\n",
    "from sklearn.compose import ColumnTransformer, make_column_transformer\n",
    "from sklearn.externals.six import StringIO  \n",
    "from IPython.display import Image  \n",
    "from matplotlib import image\n",
    "from sklearn.tree import export_graphviz\n",
    "\n",
    "#Use data loading class to load, process & transform the data to a format acceptable for RF & DT- \n",
    "import DataFactory\n",
    "dataFile = 'Real_Estate_Sales_2001-2016.csv'\n",
    "XY = DataFactory.allDataForOutcome(dataFile, 'SalesRatio')\n",
    "X = XY[0]\n",
    "Y = XY[1]\n",
    "\n",
    "# DATA EXPLORATION:\n",
    "#print('Sale Amount', X['SaleAmount'].describe())\n",
    "#\n",
    "#print('Assessed Value', X['AssessedValue'].describe())\n",
    "\n",
    "import seaborn as sns\n",
    "towns = X['Town']\n",
    "sns.distplot(towns);\n"
   ]
  },
  {
   "cell_type": "code",
   "execution_count": 2,
   "metadata": {},
   "outputs": [
    {
     "data": {
      "image/png": "[encoded data removed]",
      "text/plain": [
       "<Figure size 432x288 with 1 Axes>"
      ]
     },
     "metadata": {
      "needs_background": "light"
     },
     "output_type": "display_data"
    }
   ],
   "source": [
    "propertyType = X['PropertyType']\n",
    "sns.distplot(propertyType);\n"
   ]
  },
  {
   "cell_type": "code",
   "execution_count": null,
   "metadata": {},
   "outputs": [],
   "source": []
  },
  {
   "cell_type": "code",
   "execution_count": null,
   "metadata": {},
   "outputs": [],
   "source": []
  }
 ],
 "metadata": {
  "kernelspec": {
   "display_name": "Python 3",
   "language": "python",
   "name": "python3"
  },
  "language_info": {
   "codemirror_mode": {
    "name": "ipython",
    "version": 3
   },
   "file_extension": ".py",
   "mimetype": "text/x-python",
   "name": "python",
   "nbconvert_exporter": "python",
   "pygments_lexer": "ipython3",
   "version": "3.7.3"
  }
 },
 "nbformat": 4,
 "nbformat_minor": 2
}
